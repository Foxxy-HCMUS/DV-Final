{
 "cells": [
  {
   "cell_type": "markdown",
   "metadata": {},
   "source": [
    "# __<center>TRƯỜNG ĐẠI HỌC KHOA HỌC TỰ NHIÊN</center>__\n",
    "\n",
    "## __<center>Trực quan hóa dữ liệu</center>__\n",
    "\n",
    "---"
   ]
  },
  {
   "cell_type": "markdown",
   "metadata": {},
   "source": [
    "# <center>Time-User Servey 2022</center>"
   ]
  },
  {
   "cell_type": "markdown",
   "metadata": {},
   "source": [
    "### __Dataset Infomation__\n",
    "\n",
    "<table>\n",
    "    <tr>\n",
    "        <th>STT</th>\n",
    "        <th></th>\n",
    "        <th></th>\n",
    "    </tr>\n",
    "    <tr>\n",
    "        <th>1</th>\n",
    "        <th>Topic</th>\n",
    "        <th>Time-User Servey 2022</th>\n",
    "    </tr>\n",
    "    <tr>\n",
    "        <th>2</th>\n",
    "        <th>Source</th>\n",
    "        <th><a href = \"https://www.worldbank.org/en/home\">The Data World</a></th>\n",
    "    </tr>\n",
    "    <tr>\n",
    "        <th>3</th>\n",
    "        <th>Version</th>\n",
    "        <th>v2.1: Edited, anonymous dataset for public distribution.</th>\n",
    "    </tr>\n",
    "    <tr>\n",
    "        <th>4</th>\n",
    "        <th>Access Policy</th>\n",
    "        <th>Public Use Files.</th>\n",
    "    </tr>\n",
    "    <tr>\n",
    "        <th>5</th>\n",
    "        <th>Data Collectors</th>\n",
    "        <th>Indochina Research (Vietnam) Ltd.</th>\n",
    "    </tr>\n",
    "    <tr>\n",
    "        <th>6</th>\n",
    "        <th>Date of data collection</th>\n",
    "        <th>From 13/10/2022 to 10-01-2023.</th>\n",
    "    </tr>\n",
    "    <tr>\n",
    "        <th>7</th>\n",
    "        <th>Number file .csv</th>\n",
    "        <th>3</th>\n",
    "    </tr>\n",
    "</table>"
   ]
  },
  {
   "cell_type": "markdown",
   "metadata": {},
   "source": [
    "###  __Time-User Servey__\n",
    "\n",
    "Time-Use Survey (TUS) là một loại khảo sát nhằm đo lường và phân tích thời gian dành cho các hoạt động khác nhau của một cá nhân hoặc một hộ gia đình trong một khoảng thời gian nhất định, thường là 24 giờ hoặc một ngày. TUS cung cấp thông tin chi tiết về cách mà con người sử dụng thời gian của mình để hoàn thành các hoạt động như lao động, học tập, chăm sóc gia đình, giải trí, nghỉ ngơi, v.v.\n",
    "\n",
    "Thông tin thu thập từ TUS có thể được sử dụng để phân tích và so sánh thời gian dành cho các hoạt động khác nhau giữa các nhóm dân số khác nhau, giữa các khu vực địa lý khác nhau, và giữa các thời điểm khác nhau. TUS cũng cung cấp thông tin quan trọng để thiết kế các chính sách và chương trình xã hội nhằm tối ưu hóa sử dụng thời gian và cải thiện chất lượng cuộc sống của con người."
   ]
  },
  {
   "cell_type": "markdown",
   "metadata": {},
   "source": [
    "### __Data file 1:__\n",
    "<a href = \"./.csv/Input/VietNam-Survey/1_cover_id_main.csv\">1.cover_id_main.csv</a>\n",
    "\n",
    "\n",
    "Variable Infomation: <a href = \"https://microdata.worldbank.org/index.php/catalog/5844/data-dictionary/F1?file_name=1_cover_id_main\">https://microdata.worldbank.org/index.php/catalog/5844/data-dictionary/F1?file_name=1_cover_id_main</a>"
   ]
  },
  {
   "cell_type": "markdown",
   "metadata": {},
   "source": [
    "### __Data file 2:__\n",
    "<a href = \"./.csv/Input/VietNam-Survey/3_individual_id_main.csv\">3_individual_id_main.csv</a>\n",
    "\n",
    "Variable Infomation: <a href =\"https://microdata.worldbank.org/index.php/catalog/5844/data-dictionary/F2?file_name=3_individual_id_main\">https://microdata.worldbank.org/index.php/catalog/5844/data-dictionary/F2?file_name=3_individual_id_main</a>"
   ]
  },
  {
   "cell_type": "markdown",
   "metadata": {},
   "source": [
    "### __Data file 3:__\n",
    "<a href = \"./.csv/Input/VietNam-Survey/4_diary_main.csv\">4_diary_main.csv</a>\n",
    "\n",
    "Variable Infomation: <a href =\"https://microdata.worldbank.org/index.php/catalog/5844/data-dictionary/F3?file_name=4_diary_main\">https://microdata.worldbank.org/index.php/catalog/5844/data-dictionary/F3?file_name=4_diary_main</a>"
   ]
  },
  {
   "cell_type": "markdown",
   "metadata": {},
   "source": [
    "---"
   ]
  },
  {
   "cell_type": "markdown",
   "metadata": {},
   "source": [
    "# <center>Thành viên nhóm</center>"
   ]
  },
  {
   "cell_type": "markdown",
   "metadata": {},
   "source": [
    "<table>\n",
    "    <tr>\n",
    "        <th>STT</th>\n",
    "        <th>MSSV</th>\n",
    "        <th>Họ và tên</th>\n",
    "    </tr>\n",
    "    <tr>\n",
    "        <th>1</th>\n",
    "        <th>20120040</th>\n",
    "        <th>Nguyễn Quang Gia Bảo</th>\n",
    "    </tr>\n",
    "    <tr>\n",
    "        <th>2</th>\n",
    "        <th>20120120</th>\n",
    "        <th>Nguyễn Việt Khoa</th>\n",
    "    </tr>\n",
    "    <tr>\n",
    "        <th>3</th>\n",
    "        <th>20120136</th>\n",
    "        <th>Huỳnh Tuấn Nam</th>\n",
    "    </tr>\n",
    "    <tr>\n",
    "        <th>4</th>\n",
    "        <th>20120158</th>\n",
    "        <th>Trần Hoàng Anh Phi</th>\n",
    "    </tr>\n",
    "</table>"
   ]
  }
 ],
 "metadata": {
  "language_info": {
   "name": "python"
  },
  "orig_nbformat": 4
 },
 "nbformat": 4,
 "nbformat_minor": 2
}
